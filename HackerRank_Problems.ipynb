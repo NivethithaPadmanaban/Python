{
 "cells": [
  {
   "cell_type": "markdown",
   "metadata": {},
   "source": [
    "# Introduction"
   ]
  },
  {
   "cell_type": "markdown",
   "metadata": {},
   "source": [
    "1. print(\"Hello, World!\")"
   ]
  },
  {
   "cell_type": "code",
   "execution_count": 1,
   "metadata": {},
   "outputs": [
    {
     "name": "stdout",
     "output_type": "stream",
     "text": [
      "Hello, World!\n"
     ]
    }
   ],
   "source": [
    "print(\"Hello, World!\")"
   ]
  },
  {
   "cell_type": "markdown",
   "metadata": {},
   "source": [
    "2. Given an integer,n , perform the following conditional actions:\n",
    "\n",
    "If n is odd, print Weird\n",
    "If n is even and in the inclusive range of 2 to 5, print Not Weird\n",
    "If n is even and in the inclusive range of 6 to 20, print Weird\n",
    "If n is even and greater than 20, print Not Weird"
   ]
  },
  {
   "cell_type": "code",
   "execution_count": 27,
   "metadata": {},
   "outputs": [
    {
     "name": "stdout",
     "output_type": "stream",
     "text": [
      "4\n",
      "Not Weird\n",
      "-----2.420356035232544 seconds----\n"
     ]
    }
   ],
   "source": [
    "#HackerRank_Participant_Solution\n",
    "import time\n",
    "start_time = time.time()\n",
    "n=int(input().strip())\n",
    "if n%2==0 and (n>20 or n in range(2,5)):\n",
    "    print(\"Not Weird\")\n",
    "elif n%2==0 and (n in range(6,21)):\n",
    "    print(\"Weird\")\n",
    "else:\n",
    "    print(\"Weird\")\n",
    "print(\"-----%s seconds----\" % (time.time() - start_time))"
   ]
  },
  {
   "cell_type": "code",
   "execution_count": 28,
   "metadata": {},
   "outputs": [
    {
     "name": "stdout",
     "output_type": "stream",
     "text": [
      "4\n",
      "Not Weird\n",
      "-----1.0510916709899902 seconds----\n"
     ]
    }
   ],
   "source": [
    "#My Solution - this seems to be better optimized\n",
    "import time\n",
    "start_time = time.time()\n",
    "N=int(input().strip())\n",
    "if N%2 ==0 and (N>=20 or N>=2 and N<5):\n",
    "    print(\"Not Weird\")\n",
    "elif N%2==0 and (N>=6 and N<=20):\n",
    "    print(\"Weird\")\n",
    "else:\n",
    "    print(\"Weird\")\n",
    "print(\"-----%s seconds----\" % (time.time() - start_time))"
   ]
  },
  {
   "cell_type": "markdown",
   "metadata": {},
   "source": [
    "3. Read two integers from STDIN and print three lines where:\n",
    "\n",
    "The first line contains the sum of the two numbers.\n",
    "The second line contains the difference of the two numbers (first - second).\n",
    "The third line contains the product of the two numbers."
   ]
  },
  {
   "cell_type": "code",
   "execution_count": null,
   "metadata": {},
   "outputs": [],
   "source": [
    "a = int(input())\n",
    "b = int(input())\n",
    "print(a+b)\n",
    "print(a-b)\n",
    "print(a*b)"
   ]
  },
  {
   "cell_type": "markdown",
   "metadata": {},
   "source": [
    "4. Read two integers and print two lines. The first line should contain integer division,  // . The second line should contain float division,  / .\n",
    "\n",
    "You don't need to perform any rounding or formatting operations."
   ]
  },
  {
   "cell_type": "code",
   "execution_count": 29,
   "metadata": {},
   "outputs": [
    {
     "name": "stdout",
     "output_type": "stream",
     "text": [
      "15\n",
      "3\n",
      "5\n",
      "5.0\n"
     ]
    }
   ],
   "source": [
    "a = int(input())\n",
    "b = int(input())\n",
    "print(a//b) # Will return integer value\n",
    "print(a/b) # will return float value"
   ]
  },
  {
   "cell_type": "markdown",
   "metadata": {},
   "source": [
    "5. Read an integer N. For all non-negative integers i<N, print i^2. See the sample for details."
   ]
  },
  {
   "cell_type": "code",
   "execution_count": 41,
   "metadata": {},
   "outputs": [
    {
     "name": "stdout",
     "output_type": "stream",
     "text": [
      "20\n",
      "[0, 1, 4, 9, 16, 25, 36, 49, 64, 81, 100, 121, 144, 169, 196, 225, 256, 289, 324, 361]\n",
      "-----1.2803876399993896 seconds----\n"
     ]
    }
   ],
   "source": [
    "import time #Optimized\n",
    "start_time = time.time()\n",
    "n=int(input())\n",
    "out=[i*i for i in range(n)]\n",
    "print(out)\n",
    "print(\"-----%s seconds----\" % (time.time() - start_time))"
   ]
  },
  {
   "cell_type": "code",
   "execution_count": 40,
   "metadata": {},
   "outputs": [
    {
     "name": "stdout",
     "output_type": "stream",
     "text": [
      "20\n",
      "0\n",
      "1\n",
      "4\n",
      "9\n",
      "16\n",
      "25\n",
      "36\n",
      "49\n",
      "64\n",
      "81\n",
      "100\n",
      "121\n",
      "144\n",
      "169\n",
      "196\n",
      "225\n",
      "256\n",
      "289\n",
      "324\n",
      "361\n",
      "-----2.902852773666382 seconds----\n"
     ]
    }
   ],
   "source": [
    "import time\n",
    "start_time = time.time()\n",
    "N=int(input())\n",
    "for i in range(N):\n",
    "    print(i*i)\n",
    "print(\"-----%s seconds----\" % (time.time() - start_time))"
   ]
  },
  {
   "cell_type": "markdown",
   "metadata": {},
   "source": [
    "6. We add a Leap Day on February 29, almost every four years. The leap day is an extra, or intercalary day and we add it to the shortest month of the year, February. \n",
    "In the Gregorian calendar three criteria must be taken into account to identify leap years:\n",
    "\n",
    "The year can be evenly divided by 4, is a leap year, unless:\n",
    "The year can be evenly divided by 100, it is NOT a leap year, unless:\n",
    "The year is also evenly divisible by 400. Then it is a leap year.\n",
    "This means that in the Gregorian calendar, the years 2000 and 2400 are leap years, while 1800, 1900, 2100, 2200, 2300 and 2500 are NOT leap years"
   ]
  },
  {
   "cell_type": "code",
   "execution_count": 49,
   "metadata": {},
   "outputs": [
    {
     "name": "stdout",
     "output_type": "stream",
     "text": [
      "2016\n"
     ]
    },
    {
     "data": {
      "text/plain": [
       "True"
      ]
     },
     "execution_count": 49,
     "metadata": {},
     "output_type": "execute_result"
    }
   ],
   "source": [
    "def is_leap(year):\n",
    "    leap = False\n",
    "    if year%4 == 0 and (year%400 == 0 or year%100!=0):\n",
    "        leap = True\n",
    "    else:\n",
    "        leap = False\n",
    "    return leap\n",
    "is_leap(int(input()))"
   ]
  },
  {
   "cell_type": "markdown",
   "metadata": {},
   "source": [
    "7. Read an integer N.\n",
    "Without using any string methods, try to print the following: 123...N"
   ]
  },
  {
   "cell_type": "code",
   "execution_count": null,
   "metadata": {},
   "outputs": [],
   "source": [
    "n = int(input())\n",
    "for i in range(1,n+1):\n",
    "    print(i,end='')"
   ]
  },
  {
   "cell_type": "markdown",
   "metadata": {},
   "source": [
    "# Basic Data Types"
   ]
  },
  {
   "cell_type": "code",
   "execution_count": null,
   "metadata": {},
   "outputs": [],
   "source": [
    "8. Consider a list (list = []). You can perform the following commands:\n",
    "\n",
    "insert i e: Insert integer e at position i.\n",
    "print: Print the list.\n",
    "remove e: Delete the first occurrence of integer e.\n",
    "append e: Insert integer e at the end of the list.\n",
    "sort: Sort the list.\n",
    "pop: Pop the last element from the list.\n",
    "reverse: Reverse the list.\n",
    "Initialize your list and read in the value of n followed by n lines of commands where each command will be of the 7\n",
    "types listed above. Iterate through each command in order and perform the corresponding operation on your list."
   ]
  },
  {
   "cell_type": "code",
   "execution_count": null,
   "metadata": {},
   "outputs": [],
   "source": [
    "#Works good, but not optimized\n",
    "ls=[1,89,45]\n",
    "N1=int(input())\n",
    "for i in range(N1):\n",
    "    action = input()\n",
    "    if action ==\"insert\":\n",
    "        e=int(input())\n",
    "        i=int(input()) \n",
    "        ls.insert(i,e)\n",
    "    elif action == \"remove\":\n",
    "        e=int(input())\n",
    "        ls.remove(e)\n",
    "    elif action == \"append\":\n",
    "        e=int(input())\n",
    "        ls.append(e)\n",
    "    elif action == \"sort\":\n",
    "        ls.sort()\n",
    "    elif action == \"pop\":\n",
    "        ls.pop()\n",
    "    elif action == \"reverse\":\n",
    "        ls.reverse()\n",
    "    elif action==\"print\":\n",
    "        print(ls)\n"
   ]
  },
  {
   "cell_type": "code",
   "execution_count": 6,
   "metadata": {},
   "outputs": [
    {
     "name": "stdout",
     "output_type": "stream",
     "text": [
      "4\n",
      "insert 0 10\n",
      "insert 1 20\n",
      "insert 2 40\n",
      "print\n",
      "[10, 20, 40]\n"
     ]
    }
   ],
   "source": [
    "#Expected Solution #Optimized\n",
    "ls=[]\n",
    "N=int(input())\n",
    "for i in range(N):\n",
    "    inp=list(input().split())\n",
    "    if inp[0]==\"insert\":\n",
    "        i=int(inp[1])\n",
    "        e=int(inp[2])\n",
    "        ls.insert(i,e)\n",
    "    elif inp[0] == \"remove\":\n",
    "        e=int(inp[1])\n",
    "        ls.remove(e)\n",
    "    elif inp[0] == \"append\":\n",
    "        e=int(inp[1])\n",
    "        ls.append(e)\n",
    "    elif inp[0] == \"sort\":\n",
    "        ls.sort()\n",
    "    elif inp[0] == \"pop\":\n",
    "        ls.pop()\n",
    "    elif inp[0] == \"reverse\":\n",
    "        ls.reverse()\n",
    "    elif inp[0]==\"print\":\n",
    "        print(ls)    "
   ]
  },
  {
   "cell_type": "markdown",
   "metadata": {},
   "source": [
    "9. Given an integer, n, and n space-separated integers as input, create a tuple, t, of those n integers. Then compute and print the result of hash(t).\n",
    "\n",
    "Note: hash() is one of the functions in the __builtins__ module, so it need not be imported."
   ]
  },
  {
   "cell_type": "code",
   "execution_count": 34,
   "metadata": {},
   "outputs": [
    {
     "name": "stdout",
     "output_type": "stream",
     "text": [
      "2\n",
      "1 2\n",
      "3713081631934410656\n"
     ]
    }
   ],
   "source": [
    "n = int(input())\n",
    "integer_list = map(int, input().split())#to read space separated input and convert them into string\n",
    "t=(tuple(integer_list))\n",
    "print(hash(t))"
   ]
  },
  {
   "cell_type": "markdown",
   "metadata": {},
   "source": [
    "10. Given the participants' score sheet for your University Sports Day, you are required to find the runner-up score. You are given n scores. Store them in a list and find the score of the runner-up.\n",
    "The first line contains n. The second line contains an array A[] of n integers each separated by a space."
   ]
  },
  {
   "cell_type": "code",
   "execution_count": null,
   "metadata": {},
   "outputs": [],
   "source": [
    "n = int(input())\n",
    "arr = set(map(int, input().split()))\n",
    "print(sorted(arr)[-2])"
   ]
  },
  {
   "cell_type": "markdown",
   "metadata": {},
   "source": [
    "11. Given the names and grades for each student in a Physics class of N students, store them in a nested list and print the name(s) of any student(s) having the second lowest grade.\n",
    "\n",
    "Note: If there are multiple students with the same grade, order their names alphabetically and print each name on a new line.\n",
    "\n",
    "Input Format\n",
    "\n",
    "The first line contains an integer,N, the number of students. \n",
    "The 2N subsequent lines describe each student over 2 lines; the first line contains a student's name, and the second line \n",
    "contains their grade.\n",
    "\n",
    "Output Format\n",
    "\n",
    "Print the name(s) of any student(s) having the second lowest grade in Physics; if there are multiple students, \n",
    "order their names alphabetically and print each one on a new line."
   ]
  },
  {
   "cell_type": "code",
   "execution_count": 8,
   "metadata": {},
   "outputs": [
    {
     "name": "stdout",
     "output_type": "stream",
     "text": [
      "3\n",
      "a\n",
      "10\n",
      "b\n",
      "20\n",
      "c\n",
      "3\n",
      "a\n"
     ]
    }
   ],
   "source": [
    "ls=[]\n",
    "i=0\n",
    "for j in range(int(input())):\n",
    "    name = input()\n",
    "    score = float(input())\n",
    "    ls.append([])\n",
    "    ls[i]=[name,score]\n",
    "    i=i+1\n",
    "dt=dict(ls)\n",
    "min_value = min(dt.values())\n",
    "min_keys = [k for k in dt if dt[k] == min_value]\n",
    "for i in min_keys:\n",
    "    dt.pop(i)\n",
    "second_min_value = min(dt.values())\n",
    "second_minvalue_keys = [k for k in dt if dt[k] == second_min_value]\n",
    "s=sorted(second_minvalue_keys)\n",
    "for i in s:\n",
    "    print(i)"
   ]
  },
  {
   "cell_type": "code",
   "execution_count": 17,
   "metadata": {},
   "outputs": [
    {
     "name": "stdout",
     "output_type": "stream",
     "text": [
      "3\n",
      "a\n",
      "20\n",
      "v\n",
      "2\n",
      "e\n",
      "30\n",
      "a\n"
     ]
    }
   ],
   "source": [
    "#Optimised method\n",
    "ls=[]\n",
    "i=0\n",
    "for j in range(int(input())):\n",
    "    name = input()\n",
    "    score = float(input())\n",
    "    ls.append([])\n",
    "    ls[i]=[name,score] #creates nested list\n",
    "    i=i+1\n",
    "dt=dict(ls)\n",
    "min_value = sorted(dt.values())[1]\n",
    "min_keys = [k for k in dt if dt[k] == min_value]\n",
    "Second_Lowest_Grade=min(map(str,min_keys)) #converts list to string without using explicit for\n",
    "print(Second_Lowest_Grade)"
   ]
  },
  {
   "cell_type": "markdown",
   "metadata": {},
   "source": [
    "12. You have a record of N students. Each record contains the student's name, and their percent marks in Maths, Physics and Chemistry. The marks can be floating values. The user enters some integer N followed by the names and marks for N students. You are required to save the record in a dictionary data type. The user then enters a student's name. Output the average percentage marks obtained by that student, correct to two decimal places."
   ]
  },
  {
   "cell_type": "code",
   "execution_count": null,
   "metadata": {},
   "outputs": [],
   "source": [
    "if __name__ == '__main__':\n",
    "    n = int(input())\n",
    "    student_marks = {}\n",
    "    for _ in range(n):\n",
    "        name, *line = input().split()\n",
    "        scores = list(map(float, line))\n",
    "        student_marks[name] = scores # storing Keys and Values in dictionary\n",
    "    query_name = input()\n",
    "    Marks=list(student_marks.values())[list(student_marks.keys()).index(query_name)] #fetching marks(values) of the input key \n",
    "    Avg=format(sum(Marks)/len(Marks),'.2f')\n",
    "    print(Avg)\n"
   ]
  },
  {
   "cell_type": "markdown",
   "metadata": {},
   "source": [
    "13. Let's learn about list comprehensions! You are given three integers X, Y and Z representing the dimensions of a cuboid along with an integer N. You have to print a list of all possible coordinates given by (i,j,k) on a 3D grid where the sum of i+j+k is not equal to N. Here, 0<=i<=X; 0<=j<=Y; 0<=k<=Z"
   ]
  },
  {
   "cell_type": "code",
   "execution_count": null,
   "metadata": {},
   "outputs": [],
   "source": [
    "if __name__ == '__main__':\n",
    "    x = int(input())\n",
    "    y = int(input())\n",
    "    z = int(input())\n",
    "    n = int(input())\n",
    "    print([[i,j,k] for i in range(x+1) for j in range(y+1) for k in range(z+1) if i+j+k!=n])"
   ]
  },
  {
   "cell_type": "markdown",
   "metadata": {},
   "source": [
    "# Strings"
   ]
  },
  {
   "cell_type": "markdown",
   "metadata": {},
   "source": [
    "14. sWAP cASE\n",
    "You are given a string and your task is to swap cases. In other words, convert all lowercase letters to uppercase letters and vice versa."
   ]
  },
  {
   "cell_type": "code",
   "execution_count": 20,
   "metadata": {},
   "outputs": [
    {
     "name": "stdout",
     "output_type": "stream",
     "text": [
      "hACKERrANK.COM PRESENTS \"pYTHONIST 2\"\n"
     ]
    }
   ],
   "source": [
    "#inp='HackerRank.com presents \"Pythonist 2\"'\n",
    "def swap_case(s):\n",
    "    out=\"\"\n",
    "    for i in s:\n",
    "        if ord(i) >=65 and ord(i)<=90:\n",
    "            out+=chr(ord(i)+32)\n",
    "        elif ord(i) >=97 and ord(i)<=122:\n",
    "            out+=chr(ord(i)-32)\n",
    "        else:\n",
    "            out+=i\n",
    "    return out\n",
    "\n",
    "if __name__ == '__main__':\n",
    "    s = input()\n",
    "    result = swap_case(s)\n",
    "    print(result)"
   ]
  },
  {
   "cell_type": "markdown",
   "metadata": {},
   "source": [
    "15. You are given a string. Split the string on a \" \" (space) delimiter and join using a - hyphen."
   ]
  },
  {
   "cell_type": "code",
   "execution_count": 21,
   "metadata": {},
   "outputs": [
    {
     "name": "stdout",
     "output_type": "stream",
     "text": [
      "this is a string\n",
      "this-is-a-string\n"
     ]
    }
   ],
   "source": [
    "def split_and_join(line):\n",
    "    s=line.split(\" \")\n",
    "    j=\"-\".join(s)\n",
    "    return j\n",
    "\n",
    "if __name__ == '__main__':\n",
    "    line = input()\n",
    "    result = split_and_join(line)\n",
    "    print(result)"
   ]
  },
  {
   "cell_type": "markdown",
   "metadata": {},
   "source": [
    "16. You are given the firstname and lastname of a person on two different lines. Your task is to read them and print the following:\n",
    "\n",
    "Hello firstname lastname! You just delved into python."
   ]
  },
  {
   "cell_type": "code",
   "execution_count": 22,
   "metadata": {},
   "outputs": [
    {
     "name": "stdout",
     "output_type": "stream",
     "text": [
      "Harry\n",
      "Potter\n",
      "Hello Harry Potter! You just delved into python.\n"
     ]
    }
   ],
   "source": [
    "def print_full_name(a, b):\n",
    "    print(f\"Hello {a} {b}! You just delved into python.\")\n",
    "if __name__ == '__main__':\n",
    "    first_name = input()\n",
    "    last_name = input()\n",
    "    print_full_name(first_name, last_name)"
   ]
  },
  {
   "cell_type": "markdown",
   "metadata": {},
   "source": [
    "17. Mutations: We have seen that lists are mutable (they can be changed), and tuples are immutable (they cannot be changed).\n",
    "\n",
    "Let's try to understand this with an example.\n",
    "\n",
    "You are given an immutable string, and you want to make changes to it.\n",
    "Input Format \n",
    "The first line contains a string, S. \n",
    "The next line contains an integer i, denoting the index location and a character c separated by a space.\n",
    "\n",
    "Output Format \n",
    "Using any of the methods explained above, replace the character at index i with character c."
   ]
  },
  {
   "cell_type": "code",
   "execution_count": 33,
   "metadata": {},
   "outputs": [
    {
     "name": "stdout",
     "output_type": "stream",
     "text": [
      "abracadabra\n",
      "5 k\n",
      "abrackdabra\n"
     ]
    }
   ],
   "source": [
    "#Method1 using List\n",
    "def mutate_string(string, position, character):\n",
    "    ls=list(string)\n",
    "    ls[position]=character\n",
    "    return \"\".join(ls)\n",
    "if __name__ == '__main__':\n",
    "    s = input()\n",
    "    i, c = input().split()\n",
    "    s_new = mutate_string(s, int(i), c)\n",
    "    print(s_new)"
   ]
  },
  {
   "cell_type": "code",
   "execution_count": null,
   "metadata": {},
   "outputs": [],
   "source": [
    "#Method 2 using slicing\n",
    "def mutate_string(string, position, character):\n",
    "    return string[:position]+character+string[position+1:]\n",
    "if __name__ == '__main__':\n",
    "    s = input()\n",
    "    i, c = input().split()\n",
    "    s_new = mutate_string(s, int(i), c)\n",
    "    print(s_new)"
   ]
  },
  {
   "cell_type": "markdown",
   "metadata": {},
   "source": [
    "18. In this challenge, the user enters a string and a substring. You have to print the number of times that the substring occurs in the given string. String traversal will take place from left to right, not from right to left.\n",
    "\n",
    "NOTE: String letters are case-sensitive."
   ]
  },
  {
   "cell_type": "code",
   "execution_count": 6,
   "metadata": {},
   "outputs": [
    {
     "name": "stdout",
     "output_type": "stream",
     "text": [
      "abcdcdcefg\n",
      "cdc\n",
      "5\n"
     ]
    }
   ],
   "source": [
    "def count_substring(string, sub_string):\n",
    "    c=0\n",
    "    for i in string:\n",
    "        if i in sub_string:\n",
    "            c=c+1\n",
    "    return c\n",
    "\n",
    "if __name__ == '__main__':\n",
    "    string = input().strip()\n",
    "    sub_string = input().strip()\n",
    "    \n",
    "    count = count_substring(string, sub_string)\n",
    "    print(count)"
   ]
  },
  {
   "cell_type": "code",
   "execution_count": 7,
   "metadata": {},
   "outputs": [
    {
     "name": "stdout",
     "output_type": "stream",
     "text": [
      " cdcdc\n",
      "10\n"
     ]
    }
   ],
   "source": [
    "string='abcdcdcefg'\n",
    "sub_string='cdc'\n",
    "s=' '\n",
    "c=0\n",
    "for i in string:\n",
    "    if i in sub_string:\n",
    "        s+=i\n",
    "    c=c+1\n",
    "print(s)\n",
    "print(c)"
   ]
  },
  {
   "cell_type": "markdown",
   "metadata": {},
   "source": [
    "19. You are asked to ensure that the first and last names of people begin with a capital letter in their passports. For example, alison heck should be capitalised correctly as Alison Heck."
   ]
  },
  {
   "cell_type": "code",
   "execution_count": null,
   "metadata": {},
   "outputs": [],
   "source": []
  },
  {
   "cell_type": "code",
   "execution_count": 12,
   "metadata": {},
   "outputs": [
    {
     "name": "stdout",
     "output_type": "stream",
     "text": [
      "1 w 2 r 3g\n"
     ]
    }
   ],
   "source": [
    "import os #OS module in Python provides functions for interacting with the operating system.\n",
    "#os.environ in Python is a mapping object that represents the user’s environmental variables. \n",
    "#It returns a dictionary having user’s environmental variable as key and their values as value.\n",
    "def solve(s):\n",
    "    return s.title()\n",
    "if __name__ == '__main__':\n",
    "    os.environ['OUTPUT_PATH'] = 'D:\\\\Nivethitha\\\\Personal\\\\note.txt' #Modify the value of os.environ['OUTPUT_PATH'] to the customized path\n",
    "    fptr = open(os.environ['OUTPUT_PATH'], 'w')\n",
    "\n",
    "    s = input()\n",
    "\n",
    "    result = solve(s)\n",
    "\n",
    "    fptr.write(result + '\\n')\n",
    "\n",
    "    fptr.close()"
   ]
  },
  {
   "cell_type": "code",
   "execution_count": 33,
   "metadata": {},
   "outputs": [
    {
     "name": "stdout",
     "output_type": "stream",
     "text": [
      "['1', ' ', 'w', ' ', '2', ' ', 'r', ' ', '3', 'g']\n",
      "1 w 2 r 3g\n"
     ]
    },
    {
     "data": {
      "text/plain": [
       "'3G'"
      ]
     },
     "execution_count": 33,
     "metadata": {},
     "output_type": "execute_result"
    }
   ],
   "source": [
    "s='1 w 2 r 3g'\n",
    "s1='3g'\n",
    "print(list(s))\n",
    "print(s)\n",
    "s1.title()"
   ]
  },
  {
   "cell_type": "code",
   "execution_count": null,
   "metadata": {},
   "outputs": [],
   "source": [
    "import re\n",
    "n=int(input())\n",
    "for i in range(n):\n",
    "    a=input()\n",
    "    ls=[]\n",
    "    for i in re.findall(\"\\w\",a):\n",
    "        ls.append(re.findall(\"\\w\",a).count(i))\n",
    "    if len(a)==10 and re.search(\"\\W\",a)==None and max(ls)==1 and len(re.findall(\"\\d\",a))>=3 and len(re.findall(\"[A-Z]\",a)):\n",
    "        print('Valid')\n",
    "    else:\n",
    "        print('Invalid')"
   ]
  },
  {
   "cell_type": "markdown",
   "metadata": {},
   "source": [
    "# Regex and Parsing"
   ]
  },
  {
   "cell_type": "markdown",
   "metadata": {},
   "source": [
    "2. You and Fredrick are good friends. Yesterday, Fredrick received  credit cards from ABCD Bank. \n",
    "He wants to verify whether his credit card numbers are valid or not. \n",
    "You happen to be great at regex so he is asking for your help!\n",
    "\n",
    "A valid credit card from ABCD Bank has the following characteristics: \n",
    "\n",
    "► It must start with a 4, 5 or 6. \n",
    "► It must contain exactly 16 digits. \n",
    "► It must only consist of digits (0-9). \n",
    "► It may have digits in groups of 4, separated by one hyphen \"-\". \n",
    "► It must NOT use any other separator like ' ' , '_', etc. \n",
    "► It must NOT have 4 or more consecutive repeated digits."
   ]
  },
  {
   "cell_type": "code",
   "execution_count": null,
   "metadata": {},
   "outputs": [],
   "source": [
    "import re\n",
    "n=int(input())\n",
    "for i in range(n):\n",
    "    a=input()\n",
    "    ls=[]\n",
    "    for i in re.findall(\"\\d\",a):\n",
    "        ls.append(re.findall(\"\\d\",a).count(i))\n",
    "    if len(a)==16 and re.search(\"\\W\",a)==None and max(ls)==1 and len(re.findall(\"\\d\",a))>=3 and len(re.findall(\"[A-Z]\",a)):\n",
    "        print('Valid')\n",
    "    else:\n",
    "        print('Invalid')"
   ]
  }
 ],
 "metadata": {
  "kernelspec": {
   "display_name": "Python 3",
   "language": "python",
   "name": "python3"
  },
  "language_info": {
   "codemirror_mode": {
    "name": "ipython",
    "version": 3
   },
   "file_extension": ".py",
   "mimetype": "text/x-python",
   "name": "python",
   "nbconvert_exporter": "python",
   "pygments_lexer": "ipython3",
   "version": "3.7.0"
  }
 },
 "nbformat": 4,
 "nbformat_minor": 2
}
